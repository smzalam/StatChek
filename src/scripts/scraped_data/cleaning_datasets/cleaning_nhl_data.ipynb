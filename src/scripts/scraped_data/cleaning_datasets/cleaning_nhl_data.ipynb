{
 "cells": [
  {
   "cell_type": "code",
   "execution_count": 10,
   "metadata": {},
   "outputs": [],
   "source": [
    "import pandas as pd\n",
    "import numpy as np"
   ]
  },
  {
   "cell_type": "code",
   "execution_count": 11,
   "metadata": {},
   "outputs": [],
   "source": [
    "df_conferences = pd.read_csv('../scraped_csv/nhl_details/conferencesAll.csv')\n",
    "df_divisions = pd.read_csv('../scraped_csv/nhl_details/divisionsAll.csv')"
   ]
  },
  {
   "cell_type": "code",
   "execution_count": 12,
   "metadata": {},
   "outputs": [
    {
     "data": {
      "text/html": [
       "<div>\n",
       "<style scoped>\n",
       "    .dataframe tbody tr th:only-of-type {\n",
       "        vertical-align: middle;\n",
       "    }\n",
       "\n",
       "    .dataframe tbody tr th {\n",
       "        vertical-align: top;\n",
       "    }\n",
       "\n",
       "    .dataframe thead th {\n",
       "        text-align: right;\n",
       "    }\n",
       "</style>\n",
       "<table border=\"1\" class=\"dataframe\">\n",
       "  <thead>\n",
       "    <tr style=\"text-align: right;\">\n",
       "      <th></th>\n",
       "      <th>id</th>\n",
       "      <th>name</th>\n",
       "      <th>link</th>\n",
       "      <th>abbreviation</th>\n",
       "      <th>shortName</th>\n",
       "      <th>active</th>\n",
       "    </tr>\n",
       "  </thead>\n",
       "  <tbody>\n",
       "    <tr>\n",
       "      <th>0</th>\n",
       "      <td>6</td>\n",
       "      <td>Eastern</td>\n",
       "      <td>/api/v1/conferences/6</td>\n",
       "      <td>E</td>\n",
       "      <td>East</td>\n",
       "      <td>True</td>\n",
       "    </tr>\n",
       "    <tr>\n",
       "      <th>1</th>\n",
       "      <td>5</td>\n",
       "      <td>Western</td>\n",
       "      <td>/api/v1/conferences/5</td>\n",
       "      <td>W</td>\n",
       "      <td>West</td>\n",
       "      <td>True</td>\n",
       "    </tr>\n",
       "  </tbody>\n",
       "</table>\n",
       "</div>"
      ],
      "text/plain": [
       "   id     name                   link abbreviation shortName  active\n",
       "0   6  Eastern  /api/v1/conferences/6            E      East    True\n",
       "1   5  Western  /api/v1/conferences/5            W      West    True"
      ]
     },
     "execution_count": 12,
     "metadata": {},
     "output_type": "execute_result"
    }
   ],
   "source": [
    "df_conferences"
   ]
  },
  {
   "cell_type": "code",
   "execution_count": 13,
   "metadata": {},
   "outputs": [
    {
     "data": {
      "text/plain": [
       "Index(['id', 'name', 'link', 'abbreviation', 'shortName', 'active'], dtype='object')"
      ]
     },
     "execution_count": 13,
     "metadata": {},
     "output_type": "execute_result"
    }
   ],
   "source": [
    "df_conferences.columns"
   ]
  },
  {
   "cell_type": "code",
   "execution_count": 14,
   "metadata": {},
   "outputs": [
    {
     "data": {
      "text/html": [
       "<div>\n",
       "<style scoped>\n",
       "    .dataframe tbody tr th:only-of-type {\n",
       "        vertical-align: middle;\n",
       "    }\n",
       "\n",
       "    .dataframe tbody tr th {\n",
       "        vertical-align: top;\n",
       "    }\n",
       "\n",
       "    .dataframe thead th {\n",
       "        text-align: right;\n",
       "    }\n",
       "</style>\n",
       "<table border=\"1\" class=\"dataframe\">\n",
       "  <thead>\n",
       "    <tr style=\"text-align: right;\">\n",
       "      <th></th>\n",
       "      <th>id</th>\n",
       "      <th>name</th>\n",
       "      <th>nameShort</th>\n",
       "      <th>link</th>\n",
       "      <th>abbreviation</th>\n",
       "      <th>active</th>\n",
       "      <th>conference.id</th>\n",
       "      <th>conference.name</th>\n",
       "      <th>conference.link</th>\n",
       "    </tr>\n",
       "  </thead>\n",
       "  <tbody>\n",
       "    <tr>\n",
       "      <th>0</th>\n",
       "      <td>17</td>\n",
       "      <td>Atlantic</td>\n",
       "      <td>ATL</td>\n",
       "      <td>/api/v1/divisions/17</td>\n",
       "      <td>A</td>\n",
       "      <td>True</td>\n",
       "      <td>6</td>\n",
       "      <td>Eastern</td>\n",
       "      <td>/api/v1/conferences/6</td>\n",
       "    </tr>\n",
       "    <tr>\n",
       "      <th>1</th>\n",
       "      <td>16</td>\n",
       "      <td>Central</td>\n",
       "      <td>CEN</td>\n",
       "      <td>/api/v1/divisions/16</td>\n",
       "      <td>C</td>\n",
       "      <td>True</td>\n",
       "      <td>5</td>\n",
       "      <td>Western</td>\n",
       "      <td>/api/v1/conferences/5</td>\n",
       "    </tr>\n",
       "    <tr>\n",
       "      <th>2</th>\n",
       "      <td>18</td>\n",
       "      <td>Metropolitan</td>\n",
       "      <td>Metro</td>\n",
       "      <td>/api/v1/divisions/18</td>\n",
       "      <td>M</td>\n",
       "      <td>True</td>\n",
       "      <td>6</td>\n",
       "      <td>Eastern</td>\n",
       "      <td>/api/v1/conferences/6</td>\n",
       "    </tr>\n",
       "    <tr>\n",
       "      <th>3</th>\n",
       "      <td>15</td>\n",
       "      <td>Pacific</td>\n",
       "      <td>PAC</td>\n",
       "      <td>/api/v1/divisions/15</td>\n",
       "      <td>P</td>\n",
       "      <td>True</td>\n",
       "      <td>5</td>\n",
       "      <td>Western</td>\n",
       "      <td>/api/v1/conferences/5</td>\n",
       "    </tr>\n",
       "  </tbody>\n",
       "</table>\n",
       "</div>"
      ],
      "text/plain": [
       "   id          name nameShort                  link abbreviation  active  \\\n",
       "0  17      Atlantic       ATL  /api/v1/divisions/17            A    True   \n",
       "1  16       Central       CEN  /api/v1/divisions/16            C    True   \n",
       "2  18  Metropolitan     Metro  /api/v1/divisions/18            M    True   \n",
       "3  15       Pacific       PAC  /api/v1/divisions/15            P    True   \n",
       "\n",
       "   conference.id conference.name        conference.link  \n",
       "0              6         Eastern  /api/v1/conferences/6  \n",
       "1              5         Western  /api/v1/conferences/5  \n",
       "2              6         Eastern  /api/v1/conferences/6  \n",
       "3              5         Western  /api/v1/conferences/5  "
      ]
     },
     "execution_count": 14,
     "metadata": {},
     "output_type": "execute_result"
    }
   ],
   "source": [
    "df_divisions"
   ]
  },
  {
   "cell_type": "code",
   "execution_count": 15,
   "metadata": {},
   "outputs": [],
   "source": [
    "dropped_columns_conferences = [\n",
    "    'shortName'\n",
    "]\n",
    "dropped_columns_divisions = [\n",
    "    'abbreviation',\n",
    "    'conference.link',\n",
    "    'conference.name'\n",
    "]\n",
    "df_conferences = df_conferences.drop(columns=dropped_columns_conferences)\n",
    "df_divisions = df_divisions.drop(columns=dropped_columns_divisions)"
   ]
  },
  {
   "cell_type": "code",
   "execution_count": 16,
   "metadata": {},
   "outputs": [
    {
     "data": {
      "text/html": [
       "<div>\n",
       "<style scoped>\n",
       "    .dataframe tbody tr th:only-of-type {\n",
       "        vertical-align: middle;\n",
       "    }\n",
       "\n",
       "    .dataframe tbody tr th {\n",
       "        vertical-align: top;\n",
       "    }\n",
       "\n",
       "    .dataframe thead th {\n",
       "        text-align: right;\n",
       "    }\n",
       "</style>\n",
       "<table border=\"1\" class=\"dataframe\">\n",
       "  <thead>\n",
       "    <tr style=\"text-align: right;\">\n",
       "      <th></th>\n",
       "      <th>id</th>\n",
       "      <th>name</th>\n",
       "      <th>link</th>\n",
       "      <th>abbreviation</th>\n",
       "      <th>active</th>\n",
       "    </tr>\n",
       "  </thead>\n",
       "  <tbody>\n",
       "    <tr>\n",
       "      <th>0</th>\n",
       "      <td>6</td>\n",
       "      <td>Eastern</td>\n",
       "      <td>/api/v1/conferences/6</td>\n",
       "      <td>E</td>\n",
       "      <td>True</td>\n",
       "    </tr>\n",
       "    <tr>\n",
       "      <th>1</th>\n",
       "      <td>5</td>\n",
       "      <td>Western</td>\n",
       "      <td>/api/v1/conferences/5</td>\n",
       "      <td>W</td>\n",
       "      <td>True</td>\n",
       "    </tr>\n",
       "  </tbody>\n",
       "</table>\n",
       "</div>"
      ],
      "text/plain": [
       "   id     name                   link abbreviation  active\n",
       "0   6  Eastern  /api/v1/conferences/6            E    True\n",
       "1   5  Western  /api/v1/conferences/5            W    True"
      ]
     },
     "execution_count": 16,
     "metadata": {},
     "output_type": "execute_result"
    }
   ],
   "source": [
    "df_conferences"
   ]
  },
  {
   "cell_type": "code",
   "execution_count": 17,
   "metadata": {},
   "outputs": [
    {
     "data": {
      "text/html": [
       "<div>\n",
       "<style scoped>\n",
       "    .dataframe tbody tr th:only-of-type {\n",
       "        vertical-align: middle;\n",
       "    }\n",
       "\n",
       "    .dataframe tbody tr th {\n",
       "        vertical-align: top;\n",
       "    }\n",
       "\n",
       "    .dataframe thead th {\n",
       "        text-align: right;\n",
       "    }\n",
       "</style>\n",
       "<table border=\"1\" class=\"dataframe\">\n",
       "  <thead>\n",
       "    <tr style=\"text-align: right;\">\n",
       "      <th></th>\n",
       "      <th>id</th>\n",
       "      <th>name</th>\n",
       "      <th>nameShort</th>\n",
       "      <th>link</th>\n",
       "      <th>active</th>\n",
       "      <th>conference.id</th>\n",
       "    </tr>\n",
       "  </thead>\n",
       "  <tbody>\n",
       "    <tr>\n",
       "      <th>0</th>\n",
       "      <td>17</td>\n",
       "      <td>Atlantic</td>\n",
       "      <td>ATL</td>\n",
       "      <td>/api/v1/divisions/17</td>\n",
       "      <td>True</td>\n",
       "      <td>6</td>\n",
       "    </tr>\n",
       "    <tr>\n",
       "      <th>1</th>\n",
       "      <td>16</td>\n",
       "      <td>Central</td>\n",
       "      <td>CEN</td>\n",
       "      <td>/api/v1/divisions/16</td>\n",
       "      <td>True</td>\n",
       "      <td>5</td>\n",
       "    </tr>\n",
       "    <tr>\n",
       "      <th>2</th>\n",
       "      <td>18</td>\n",
       "      <td>Metropolitan</td>\n",
       "      <td>Metro</td>\n",
       "      <td>/api/v1/divisions/18</td>\n",
       "      <td>True</td>\n",
       "      <td>6</td>\n",
       "    </tr>\n",
       "    <tr>\n",
       "      <th>3</th>\n",
       "      <td>15</td>\n",
       "      <td>Pacific</td>\n",
       "      <td>PAC</td>\n",
       "      <td>/api/v1/divisions/15</td>\n",
       "      <td>True</td>\n",
       "      <td>5</td>\n",
       "    </tr>\n",
       "  </tbody>\n",
       "</table>\n",
       "</div>"
      ],
      "text/plain": [
       "   id          name nameShort                  link  active  conference.id\n",
       "0  17      Atlantic       ATL  /api/v1/divisions/17    True              6\n",
       "1  16       Central       CEN  /api/v1/divisions/16    True              5\n",
       "2  18  Metropolitan     Metro  /api/v1/divisions/18    True              6\n",
       "3  15       Pacific       PAC  /api/v1/divisions/15    True              5"
      ]
     },
     "execution_count": 17,
     "metadata": {},
     "output_type": "execute_result"
    }
   ],
   "source": [
    "df_divisions"
   ]
  },
  {
   "cell_type": "code",
   "execution_count": 18,
   "metadata": {},
   "outputs": [],
   "source": [
    "renamed_columns_conferences = {\n",
    "    'id': 'conference_id'\n",
    "}\n",
    "renamed_columns_divisions = {\n",
    "    'id': 'division_id',\n",
    "    'nameShort': 'abbreviation',\n",
    "    'conference.id': 'conference_id'\n",
    "}\n",
    "df_conferences = df_conferences.rename(columns=renamed_columns_conferences)\n",
    "df_divisions = df_divisions.rename(columns=renamed_columns_divisions)"
   ]
  },
  {
   "cell_type": "code",
   "execution_count": 19,
   "metadata": {},
   "outputs": [
    {
     "data": {
      "text/html": [
       "<div>\n",
       "<style scoped>\n",
       "    .dataframe tbody tr th:only-of-type {\n",
       "        vertical-align: middle;\n",
       "    }\n",
       "\n",
       "    .dataframe tbody tr th {\n",
       "        vertical-align: top;\n",
       "    }\n",
       "\n",
       "    .dataframe thead th {\n",
       "        text-align: right;\n",
       "    }\n",
       "</style>\n",
       "<table border=\"1\" class=\"dataframe\">\n",
       "  <thead>\n",
       "    <tr style=\"text-align: right;\">\n",
       "      <th></th>\n",
       "      <th>conference_id</th>\n",
       "      <th>name</th>\n",
       "      <th>link</th>\n",
       "      <th>abbreviation</th>\n",
       "      <th>active</th>\n",
       "    </tr>\n",
       "  </thead>\n",
       "  <tbody>\n",
       "    <tr>\n",
       "      <th>0</th>\n",
       "      <td>6</td>\n",
       "      <td>Eastern</td>\n",
       "      <td>/api/v1/conferences/6</td>\n",
       "      <td>E</td>\n",
       "      <td>True</td>\n",
       "    </tr>\n",
       "    <tr>\n",
       "      <th>1</th>\n",
       "      <td>5</td>\n",
       "      <td>Western</td>\n",
       "      <td>/api/v1/conferences/5</td>\n",
       "      <td>W</td>\n",
       "      <td>True</td>\n",
       "    </tr>\n",
       "  </tbody>\n",
       "</table>\n",
       "</div>"
      ],
      "text/plain": [
       "   conference_id     name                   link abbreviation  active\n",
       "0              6  Eastern  /api/v1/conferences/6            E    True\n",
       "1              5  Western  /api/v1/conferences/5            W    True"
      ]
     },
     "execution_count": 19,
     "metadata": {},
     "output_type": "execute_result"
    }
   ],
   "source": [
    "df_conferences"
   ]
  },
  {
   "cell_type": "code",
   "execution_count": 20,
   "metadata": {},
   "outputs": [
    {
     "data": {
      "text/html": [
       "<div>\n",
       "<style scoped>\n",
       "    .dataframe tbody tr th:only-of-type {\n",
       "        vertical-align: middle;\n",
       "    }\n",
       "\n",
       "    .dataframe tbody tr th {\n",
       "        vertical-align: top;\n",
       "    }\n",
       "\n",
       "    .dataframe thead th {\n",
       "        text-align: right;\n",
       "    }\n",
       "</style>\n",
       "<table border=\"1\" class=\"dataframe\">\n",
       "  <thead>\n",
       "    <tr style=\"text-align: right;\">\n",
       "      <th></th>\n",
       "      <th>division_id</th>\n",
       "      <th>name</th>\n",
       "      <th>abbreviation</th>\n",
       "      <th>link</th>\n",
       "      <th>active</th>\n",
       "      <th>conference_id</th>\n",
       "    </tr>\n",
       "  </thead>\n",
       "  <tbody>\n",
       "    <tr>\n",
       "      <th>0</th>\n",
       "      <td>17</td>\n",
       "      <td>Atlantic</td>\n",
       "      <td>ATL</td>\n",
       "      <td>/api/v1/divisions/17</td>\n",
       "      <td>True</td>\n",
       "      <td>6</td>\n",
       "    </tr>\n",
       "    <tr>\n",
       "      <th>1</th>\n",
       "      <td>16</td>\n",
       "      <td>Central</td>\n",
       "      <td>CEN</td>\n",
       "      <td>/api/v1/divisions/16</td>\n",
       "      <td>True</td>\n",
       "      <td>5</td>\n",
       "    </tr>\n",
       "    <tr>\n",
       "      <th>2</th>\n",
       "      <td>18</td>\n",
       "      <td>Metropolitan</td>\n",
       "      <td>Metro</td>\n",
       "      <td>/api/v1/divisions/18</td>\n",
       "      <td>True</td>\n",
       "      <td>6</td>\n",
       "    </tr>\n",
       "    <tr>\n",
       "      <th>3</th>\n",
       "      <td>15</td>\n",
       "      <td>Pacific</td>\n",
       "      <td>PAC</td>\n",
       "      <td>/api/v1/divisions/15</td>\n",
       "      <td>True</td>\n",
       "      <td>5</td>\n",
       "    </tr>\n",
       "  </tbody>\n",
       "</table>\n",
       "</div>"
      ],
      "text/plain": [
       "   division_id          name abbreviation                  link  active  \\\n",
       "0           17      Atlantic          ATL  /api/v1/divisions/17    True   \n",
       "1           16       Central          CEN  /api/v1/divisions/16    True   \n",
       "2           18  Metropolitan        Metro  /api/v1/divisions/18    True   \n",
       "3           15       Pacific          PAC  /api/v1/divisions/15    True   \n",
       "\n",
       "   conference_id  \n",
       "0              6  \n",
       "1              5  \n",
       "2              6  \n",
       "3              5  "
      ]
     },
     "execution_count": 20,
     "metadata": {},
     "output_type": "execute_result"
    }
   ],
   "source": [
    "df_divisions"
   ]
  },
  {
   "cell_type": "code",
   "execution_count": 21,
   "metadata": {},
   "outputs": [],
   "source": [
    "payload_conferences_info = df_conferences.to_dict(orient='records')\n",
    "payload_divisions_info = df_divisions.to_dict(orient='records')"
   ]
  },
  {
   "cell_type": "code",
   "execution_count": 22,
   "metadata": {},
   "outputs": [
    {
     "data": {
      "text/plain": [
       "[{'conference_id': 6,\n",
       "  'name': 'Eastern',\n",
       "  'link': '/api/v1/conferences/6',\n",
       "  'abbreviation': 'E',\n",
       "  'active': True},\n",
       " {'conference_id': 5,\n",
       "  'name': 'Western',\n",
       "  'link': '/api/v1/conferences/5',\n",
       "  'abbreviation': 'W',\n",
       "  'active': True}]"
      ]
     },
     "execution_count": 22,
     "metadata": {},
     "output_type": "execute_result"
    }
   ],
   "source": [
    "payload_conferences_info"
   ]
  },
  {
   "cell_type": "code",
   "execution_count": 23,
   "metadata": {},
   "outputs": [
    {
     "data": {
      "text/plain": [
       "[{'division_id': 17,\n",
       "  'name': 'Atlantic',\n",
       "  'abbreviation': 'ATL',\n",
       "  'link': '/api/v1/divisions/17',\n",
       "  'active': True,\n",
       "  'conference_id': 6},\n",
       " {'division_id': 16,\n",
       "  'name': 'Central',\n",
       "  'abbreviation': 'CEN',\n",
       "  'link': '/api/v1/divisions/16',\n",
       "  'active': True,\n",
       "  'conference_id': 5},\n",
       " {'division_id': 18,\n",
       "  'name': 'Metropolitan',\n",
       "  'abbreviation': 'Metro',\n",
       "  'link': '/api/v1/divisions/18',\n",
       "  'active': True,\n",
       "  'conference_id': 6},\n",
       " {'division_id': 15,\n",
       "  'name': 'Pacific',\n",
       "  'abbreviation': 'PAC',\n",
       "  'link': '/api/v1/divisions/15',\n",
       "  'active': True,\n",
       "  'conference_id': 5}]"
      ]
     },
     "execution_count": 23,
     "metadata": {},
     "output_type": "execute_result"
    }
   ],
   "source": [
    "payload_divisions_info"
   ]
  },
  {
   "cell_type": "code",
   "execution_count": 24,
   "metadata": {},
   "outputs": [],
   "source": [
    "title = '../cleaned_csv/0_conferencesAllDetailsCleaned.csv'\n",
    "df_conferences.to_csv(title, index=True)"
   ]
  },
  {
   "cell_type": "code",
   "execution_count": 25,
   "metadata": {},
   "outputs": [],
   "source": [
    "title = '../cleaned_csv/1_divisionsAllDetailsCleaned.csv'\n",
    "df_divisions.to_csv(title, index=True)"
   ]
  }
 ],
 "metadata": {
  "kernelspec": {
   "display_name": "venv",
   "language": "python",
   "name": "python3"
  },
  "language_info": {
   "codemirror_mode": {
    "name": "ipython",
    "version": 3
   },
   "file_extension": ".py",
   "mimetype": "text/x-python",
   "name": "python",
   "nbconvert_exporter": "python",
   "pygments_lexer": "ipython3",
   "version": "3.11.4"
  }
 },
 "nbformat": 4,
 "nbformat_minor": 2
}
